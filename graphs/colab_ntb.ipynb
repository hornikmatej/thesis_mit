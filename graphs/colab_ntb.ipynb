{
 "cells": [
  {
   "cell_type": "code",
   "execution_count": null,
   "id": "117e960a",
   "metadata": {},
   "outputs": [],
   "source": [
    "from transformers import SpeechEncoderDecoderModel, AutoProcessor\n",
    "import torch\n",
    "from datasets import load_dataset\n",
    "\n",
    "MODEL_ID = \"matejhornik/wav2vec2-base_bart-base_voxpopuli-en\"\n",
    "DATASET_ID = \"facebook/voxpopuli\"\n",
    "DATASET_CONFIG = \"en\"\n",
    "DATASET_SPLIT = \"test\"  # \"validation\"\n",
    "\n",
    "device = \"cuda\" if torch.cuda.is_available() else \"cpu\"\n",
    "processor = AutoProcessor.from_pretrained(MODEL_ID)\n",
    "model = SpeechEncoderDecoderModel.from_pretrained(MODEL_ID).to(device)\n",
    "\n",
    "print(\n",
    "    f\"Using device: {device}\\nStreaming one sample from '{DATASET_ID}'\"\n",
    "    \"(config: '{DATASET_CONFIG}', split: '{DATASET_SPLIT}')...\"\n",
    ")\n",
    "streamed_dataset = load_dataset(\n",
    "    DATASET_ID,\n",
    "    DATASET_CONFIG,\n",
    "    split=DATASET_SPLIT,\n",
    "    streaming=True,\n",
    ")\n",
    "sample = next(iter(streamed_dataset))\n",
    "\n",
    "audio_input = sample[\"audio\"][\"array\"]\n",
    "input_sampling_rate = sample[\"audio\"][\"sampling_rate\"]\n",
    "\n",
    "inputs = processor(\n",
    "    audio_input, sampling_rate=input_sampling_rate, return_tensors=\"pt\", padding=True\n",
    ")\n",
    "input_features = inputs.input_values.to(device)\n",
    "\n",
    "with torch.no_grad():\n",
    "    predicted_ids = model.generate(input_features, max_length=128)\n",
    "transcription = processor.batch_decode(predicted_ids, skip_special_tokens=True)[0]\n",
    "\n",
    "print(f\"\\nOriginal: {sample['normalized_text']}\")\n",
    "print(f\"Transcribed: {transcription}\")"
   ]
  }
 ],
 "metadata": {
  "language_info": {
   "name": "python"
  }
 },
 "nbformat": 4,
 "nbformat_minor": 5
}
