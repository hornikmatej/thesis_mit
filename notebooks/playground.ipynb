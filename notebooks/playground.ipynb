{
 "cells": [
  {
   "cell_type": "code",
   "execution_count": null,
   "metadata": {},
   "outputs": [],
   "source": [
    "import os\n",
    "from dotenv import load_dotenv\n",
    "import huggingface_hub\n",
    "\n",
    "# load env var huggingface token\n",
    "load_dotenv(os.path.join(\"../\", \".env\"))\n",
    "# login to the hub\n",
    "huggingface_hub.login(token=os.getenv(\"HUGGINGFACE_TOKEN\"))"
   ]
  },
  {
   "cell_type": "code",
   "execution_count": 2,
   "metadata": {},
   "outputs": [],
   "source": [
    "import datasets\n",
    "\n",
    "voxpopuli = datasets.load_dataset(\"facebook/voxpopuli\", \"en\", streaming=True, trust_remote_code=True)"
   ]
  },
  {
   "cell_type": "code",
   "execution_count": null,
   "metadata": {},
   "outputs": [],
   "source": [
    "voxpopuli_head = list(voxpopuli[\"train\"].take(5))\n",
    "SAMPLING_RATE = voxpopuli_head[0][\"audio\"][\"sampling_rate\"]\n",
    "print(voxpopuli_head)"
   ]
  },
  {
   "cell_type": "code",
   "execution_count": null,
   "metadata": {},
   "outputs": [],
   "source": [
    "from transformers import AutoTokenizer, AutoFeatureExtractor, SpeechEncoderDecoderModel\n",
    "\n",
    "encoder_id = \"facebook/wav2vec2-base-960h\"  # acoustic model encoder\n",
    "decoder_id = \"facebook/bart-base\"  # text decoder\n",
    "\n",
    "feature_extractor = AutoFeatureExtractor.from_pretrained(encoder_id)\n",
    "tokenizer = AutoTokenizer.from_pretrained(decoder_id)\n",
    "\n",
    "model = SpeechEncoderDecoderModel.from_encoder_decoder_pretrained(\n",
    "    encoder_id, decoder_id, encoder_add_adapter=True\n",
    ")\n",
    "model.config.encoder.feat_proj_dropout = 0.0\n",
    "model.config.encoder.mask_time_prob = 0.0\n",
    "model.config.decoder_start_token_id = model.decoder.config.bos_token_id\n",
    "model.config.pad_token_id = model.decoder.config.pad_token_id\n",
    "model.config.eos_token_id = model.decoder.config.eos_token_id\n",
    "model.config.max_length = 40\n",
    "model.config.encoder.layerdrop = 0.0\n",
    "model.config.use_cache = False\n",
    "model.config.processor_class = \"Wav2Vec2Processor\"\n",
    "\n",
    "\n",
    "input_values = feature_extractor(\n",
    "    voxpopuli_head[0][\"audio\"][\"array\"], return_tensors=\"pt\", sampling_rate=SAMPLING_RATE\n",
    ").input_values\n",
    "\n",
    "generated_ids = model.generate(input_values, decoder_start_token_id=tokenizer.cls_token_id, )\n",
    "generated_text = tokenizer.batch_decode(generated_ids, skip_special_tokens=True)\n",
    "print(generated_text)\n",
    "\n",
    "# # load its corresponding transcription and tokenize to generate labels\n",
    "# labels = tokenizer(voxpopuli_head[0][\"text\"], return_tensors=\"pt\").input_ids"
   ]
  }
 ],
 "metadata": {
  "kernelspec": {
   "display_name": ".venv",
   "language": "python",
   "name": "python3"
  },
  "language_info": {
   "codemirror_mode": {
    "name": "ipython",
    "version": 3
   },
   "file_extension": ".py",
   "mimetype": "text/x-python",
   "name": "python",
   "nbconvert_exporter": "python",
   "pygments_lexer": "ipython3",
   "version": "3.11.10"
  }
 },
 "nbformat": 4,
 "nbformat_minor": 2
}
